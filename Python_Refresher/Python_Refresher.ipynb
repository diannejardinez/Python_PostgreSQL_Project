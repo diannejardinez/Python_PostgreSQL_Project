{
 "cells": [
  {
   "cell_type": "markdown",
   "metadata": {},
   "source": [
    "Mini-projects with Python\n",
    "\n",
    "Objective: Python refresher on the following topics: if statement, for loop, while loops, list, dictionaries, functions\n"
   ]
  },
  {
   "cell_type": "markdown",
   "metadata": {},
   "source": [
    "# Age Program"
   ]
  },
  {
   "cell_type": "markdown",
   "metadata": {},
   "source": [
    "### F-string format"
   ]
  },
  {
   "cell_type": "code",
   "execution_count": 1,
   "metadata": {},
   "outputs": [
    {
     "name": "stdin",
     "output_type": "stream",
     "text": [
      "What is your age? : 29\n"
     ]
    },
    {
     "name": "stdout",
     "output_type": "stream",
     "text": [
      "Your age is 348in months, 10585 in days, 914544000 in seconds\n"
     ]
    }
   ],
   "source": [
    "# Create a program that asks the user for their age\n",
    "# Convert that age to months, days, and seconds\n",
    "\n",
    "# Getting user input\n",
    "user_age = int(input(\"What is your age? :\"))\n",
    "months = user_age * 12\n",
    "days = user_age * 365\n",
    "seconds = days * 86400\n",
    "\n",
    "print(f\"Your age is {months}in months, {days} in days, {seconds} in seconds\")"
   ]
  },
  {
   "cell_type": "markdown",
   "metadata": {},
   "source": [
    "### If statement"
   ]
  },
  {
   "cell_type": "code",
   "execution_count": 2,
   "metadata": {},
   "outputs": [
    {
     "name": "stdin",
     "output_type": "stream",
     "text": [
      "Enter your age:  29\n"
     ]
    },
    {
     "name": "stdout",
     "output_type": "stream",
     "text": [
      "You're doing great!\n"
     ]
    }
   ],
   "source": [
    "# Create program that asks the user for their age\n",
    "# Print out a statement from a certain condition based on their age\n",
    "\n",
    "# If statement\n",
    "age = int(input(\"Enter your age: \"))\n",
    "\n",
    "if age >= 100:\n",
    "    print(\"You can learn programming at any age!\")\n",
    "elif age < 10:\n",
    "    print(\"Starting young!\")\n",
    "else:\n",
    "    print(\"You're doing great!\")"
   ]
  },
  {
   "cell_type": "markdown",
   "metadata": {},
   "source": [
    "# Country Program"
   ]
  },
  {
   "cell_type": "markdown",
   "metadata": {},
   "source": [
    "### If statement"
   ]
  },
  {
   "cell_type": "code",
   "execution_count": 3,
   "metadata": {},
   "outputs": [
    {
     "name": "stdin",
     "output_type": "stream",
     "text": [
      "Type out one country you've visited in your lifetime?: Philippines\n"
     ]
    },
    {
     "name": "stdout",
     "output_type": "stream",
     "text": [
      "I've also visited that country!\n"
     ]
    }
   ],
   "source": [
    "# Create a program that asks the user for a country\n",
    "# Then it should tell the user whether we've\n",
    "# visited that country or not\n",
    "\n",
    "\n",
    "# List of countries\n",
    "countries_list = [\"United States of America\", \"Mexico\", \"Philippines\"]\n",
    "\n",
    "# User input\n",
    "country_visited = input(\"Type out one country you've visited in your lifetime?:\")\n",
    "\n",
    "# If statement\n",
    "if country_visited in countries_list:\n",
    "    print(\"I've also visited that country!\")\n",
    "else:\n",
    "    print(\"Cool! I haven't visited that country yet.\")\n",
    "\n"
   ]
  },
  {
   "cell_type": "markdown",
   "metadata": {},
   "source": [
    "### Nested loops with While/For loop and If statement"
   ]
  },
  {
   "cell_type": "code",
   "execution_count": 4,
   "metadata": {},
   "outputs": [
    {
     "name": "stdout",
     "output_type": "stream",
     "text": [
      "Welcome to the countries app.\n",
      "You have visited 0 countries so far.\n"
     ]
    },
    {
     "name": "stdin",
     "output_type": "stream",
     "text": [
      "Enter 'a' to add a country you've visited, or 'q' to quit:  a\n",
      "Enter Country name:  Philippines\n",
      "Enter Date visted:  2017\n",
      "Enter 'a' to add another country, 'l' to list the countries you've visited, or 'q' to quit:  a\n",
      "Enter Country name:  Mexico\n",
      "Enter Date visted:  2015\n",
      "Enter 'a' to add another country, 'l' to list the countries you've visited, or 'q' to quit:  q\n"
     ]
    }
   ],
   "source": [
    "# Create a program that brings a menu up and asks the user to\n",
    "# add a country they visited, the date they visited\n",
    "# or list out the countries they have visited\n",
    "# or exit out of the menu\n",
    "\n",
    "\n",
    "# Empty list for countries visited\n",
    "countries_visited_list=[]\n",
    "\n",
    "# Menu page\n",
    "print(\"Welcome to the countries app.\")\n",
    "print(\"You have visited 0 countries so far.\")\n",
    "\n",
    "# User input\n",
    "user_input_menu = input(\"Enter 'a' to add a country you've visited, or 'q' to quit: \")\n",
    "\n",
    "# While and if statement\n",
    "while user_input_menu != \"q\":\n",
    "    if user_input_menu == \"a\":\n",
    "        user_input_country = input(\"Enter Country name: \")\n",
    "        user_input_date = input(\"Enter Date visted: \")\n",
    "        countries_visited_list.append([user_input_country,user_input_date])\n",
    "    elif user_input_menu ==\"l\":\n",
    "        print(f\"You have visted {len(countries_visited_list)} country(ies)\")\n",
    "        for country in countries_visited_list:\n",
    "            print(f\"- {country[0]}, visited on {country[1]}\")\n",
    "        \n",
    "    # User input\n",
    "    user_input_menu = input(\"Enter 'a' to add another country, 'l' to list the countries you've visited, or 'q' to quit: \")\n"
   ]
  },
  {
   "cell_type": "markdown",
   "metadata": {},
   "source": [
    "# Treasure Hunter Program"
   ]
  },
  {
   "cell_type": "markdown",
   "metadata": {},
   "source": [
    "### Dictionaries and functions"
   ]
  },
  {
   "cell_type": "code",
   "execution_count": 1,
   "metadata": {},
   "outputs": [
    {
     "name": "stdout",
     "output_type": "stream",
     "text": [
      "\n",
      "Welcome, this is the Treasure Hunter!\n",
      "\n",
      "These are the following tools in your inventory\n",
      "    \n",
      "ROPE: 1 items\n",
      "COINS: 100 items\n",
      "GEMS: 3 items\n",
      "SHIELD: 1 items\n",
      "SWORD: 1 items\n"
     ]
    },
    {
     "name": "stdin",
     "output_type": "stream",
     "text": [
      "\n",
      "Menu options \n",
      "1. 'a' to add a tool in your inventory \n",
      "2. 'l' to look at the amount of the tool in your inventory\n",
      "3. 'all\" to look at everything in your inventory\n",
      "4. 'q' to quit\n",
      " a\n",
      "Enter new Tool:  helmet\n",
      "Enter value for tool:  1\n",
      "\n",
      "    Menu options \n",
      "    1. 'a' to add a tool in your inventory \n",
      "    2. 'l' to look at the amount of the tool in your inventory\n",
      "    3. 'all\" to look at everything in your inventory\n",
      "    4. 'q' to quit\n",
      "     l\n",
      "What item would you like to see the value for?  shovel\n"
     ]
    },
    {
     "name": "stdout",
     "output_type": "stream",
     "text": [
      "Item inputted is not in your inventory, try again!\n"
     ]
    },
    {
     "name": "stdin",
     "output_type": "stream",
     "text": [
      "\n",
      "    Menu options \n",
      "    1. 'a' to add a tool in your inventory \n",
      "    2. 'l' to look at the amount of the tool in your inventory\n",
      "    3. 'all\" to look at everything in your inventory\n",
      "    4. 'q' to quit\n",
      "     l\n",
      "What item would you like to see the value for?  helmet\n"
     ]
    },
    {
     "name": "stdout",
     "output_type": "stream",
     "text": [
      "HELMET: 1 items\n"
     ]
    },
    {
     "name": "stdin",
     "output_type": "stream",
     "text": [
      "\n",
      "    Menu options \n",
      "    1. 'a' to add a tool in your inventory \n",
      "    2. 'l' to look at the amount of the tool in your inventory\n",
      "    3. 'all\" to look at everything in your inventory\n",
      "    4. 'q' to quit\n",
      "     all\n"
     ]
    },
    {
     "name": "stdout",
     "output_type": "stream",
     "text": [
      "ROPE: 1 items\n",
      "COINS: 100 items\n",
      "GEMS: 3 items\n",
      "SHIELD: 1 items\n",
      "SWORD: 1 items\n",
      "HELMET: 1 items\n"
     ]
    },
    {
     "name": "stdin",
     "output_type": "stream",
     "text": [
      "\n",
      "    Menu options \n",
      "    1. 'a' to add a tool in your inventory \n",
      "    2. 'l' to look at the amount of the tool in your inventory\n",
      "    3. 'all\" to look at everything in your inventory\n",
      "    4. 'q' to quit\n",
      "     q\n"
     ]
    }
   ],
   "source": [
    "# Creating a program that allows user to add, see, or quit from a menu using functions\n",
    "\n",
    "\n",
    "# Define initial state for the character's inventory\n",
    "inventory = {\"Rope\": 1,\n",
    "            \"Coins\": 100,\n",
    "            \"Gems\": 3,\n",
    "            \"Shield\": 1,\n",
    "            \"Sword\":1}\n",
    "\n",
    "# Function to list all inventory items\n",
    "def all_inventory():\n",
    "    for item in inventory:\n",
    "        print(f\"{item.upper()}: {inventory[item]} items\")\n",
    "\n",
    "# Function to see value for one inventory item\n",
    "def one_item_inventory():\n",
    "    user_input_item = input(\"What item would you like to see the value for? \").upper()\n",
    "    if user_input_item in inventory:\n",
    "        print(f\"{user_input_item}: {inventory[user_input_item]} items\")\n",
    "    else:\n",
    "        print(\"Item inputted is not in your inventory, try again!\")\n",
    "        \n",
    "# Function to add a tool in the inventory\n",
    "def adding_to_inventory():\n",
    "        user_input_item = input(\"Enter new Tool: \").upper()\n",
    "        user_input_quantity = input(\"Enter value for tool: \")\n",
    "        inventory.update({user_input_item:user_input_quantity})\n",
    "\n",
    "#################################################################\n",
    "# Welcome message\n",
    "print(\"\"\"\n",
    "Welcome, this is the Treasure Hunter!\\n\n",
    "These are the following tools in your inventory\n",
    "    \"\"\")\n",
    "\n",
    "# Showing inventory\n",
    "all_inventory()\n",
    "\n",
    "\n",
    "# Taking user input for menu\n",
    "user_input_menu = input(\"\"\"\n",
    "Menu options \n",
    "1. 'a' to add a tool in your inventory \n",
    "2. 'l' to look at the amount of the tool in your inventory\n",
    "3. 'all\" to look at everything in your inventory\n",
    "4. 'q' to quit\n",
    "\"\"\")\n",
    "\n",
    "\n",
    "# Menu selection conditions\n",
    "while user_input_menu != \"q\":\n",
    "    if user_input_menu == \"a\":\n",
    "        adding_to_inventory() \n",
    "    elif user_input_menu ==\"l\":\n",
    "        one_item_inventory()\n",
    "    elif user_input_menu ==\"all\":\n",
    "        all_inventory()\n",
    "        \n",
    "        \n",
    "   # Taking user input for menu\n",
    "    user_input_menu = input(\"\"\"\n",
    "    Menu options \n",
    "    1. 'a' to add a tool in your inventory \n",
    "    2. 'l' to look at the amount of the tool in your inventory\n",
    "    3. 'all\" to look at everything in your inventory\n",
    "    4. 'q' to quit\n",
    "    \"\"\")"
   ]
  },
  {
   "cell_type": "code",
   "execution_count": null,
   "metadata": {},
   "outputs": [],
   "source": []
  }
 ],
 "metadata": {
  "kernelspec": {
   "display_name": "Python 3",
   "language": "python",
   "name": "python3"
  },
  "language_info": {
   "codemirror_mode": {
    "name": "ipython",
    "version": 3
   },
   "file_extension": ".py",
   "mimetype": "text/x-python",
   "name": "python",
   "nbconvert_exporter": "python",
   "pygments_lexer": "ipython3",
   "version": "3.7.4"
  }
 },
 "nbformat": 4,
 "nbformat_minor": 4
}
