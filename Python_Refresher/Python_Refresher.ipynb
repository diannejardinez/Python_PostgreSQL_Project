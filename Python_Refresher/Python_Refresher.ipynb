{
 "cells": [
  {
   "cell_type": "markdown",
   "metadata": {},
   "source": [
    "Mini-projects with Python\n",
    "\n",
    "Objective: Python refresher on the following topics: if statement, for loop, while loops, list, dictionaries\n"
   ]
  },
  {
   "cell_type": "markdown",
   "metadata": {},
   "source": [
    "# Age Program"
   ]
  },
  {
   "cell_type": "markdown",
   "metadata": {},
   "source": [
    "### F-string format"
   ]
  },
  {
   "cell_type": "code",
   "execution_count": 2,
   "metadata": {},
   "outputs": [
    {
     "name": "stdin",
     "output_type": "stream",
     "text": [
      "What is your age? : 29\n"
     ]
    },
    {
     "name": "stdout",
     "output_type": "stream",
     "text": [
      "Your age is 348in months, 10585 in days, 914544000 in seconds\n"
     ]
    }
   ],
   "source": [
    "# Create a program that asks the user for their age\n",
    "# Convert that age to months, days, and seconds\n",
    "\n",
    "# Getting user input\n",
    "user_age = int(input(\"What is your age? :\"))\n",
    "months = user_age * 12\n",
    "days = user_age * 365\n",
    "seconds = days * 86400\n",
    "\n",
    "print(f\"Your age is {months}in months, {days} in days, {seconds} in seconds\")"
   ]
  },
  {
   "cell_type": "markdown",
   "metadata": {},
   "source": [
    "### If statement"
   ]
  },
  {
   "cell_type": "code",
   "execution_count": 3,
   "metadata": {},
   "outputs": [
    {
     "name": "stdin",
     "output_type": "stream",
     "text": [
      "Enter your age:  29\n"
     ]
    },
    {
     "name": "stdout",
     "output_type": "stream",
     "text": [
      "You're doing great!\n"
     ]
    }
   ],
   "source": [
    "# Create program that asks the user for their age\n",
    "# Print out a statement from a certain condition based on their age\n",
    "\n",
    "# If statement\n",
    "age = int(input(\"Enter your age: \"))\n",
    "\n",
    "if age >= 100:\n",
    "    print(\"You can learn programming at any age!\")\n",
    "elif age < 10:\n",
    "    print(\"Starting young!\")\n",
    "else:\n",
    "    print(\"You're doing great!\")"
   ]
  },
  {
   "cell_type": "markdown",
   "metadata": {},
   "source": [
    "# Country Program"
   ]
  },
  {
   "cell_type": "markdown",
   "metadata": {},
   "source": [
    "### If statement"
   ]
  },
  {
   "cell_type": "code",
   "execution_count": 5,
   "metadata": {},
   "outputs": [
    {
     "name": "stdin",
     "output_type": "stream",
     "text": [
      "Type out what country have you visited in your lifetime?: Philippines\n"
     ]
    },
    {
     "name": "stdout",
     "output_type": "stream",
     "text": [
      "I've also visited that country!\n"
     ]
    }
   ],
   "source": [
    "# Create a program that asks the user for a country\n",
    "# Then it should tell the user whether we've\n",
    "# visited that country or not\n",
    "\n",
    "\n",
    "# List of countries\n",
    "countries_list = [\"United States of America\", \"Mexico\", \"Philippines\"]\n",
    "\n",
    "# User input\n",
    "country_visited = input(\"Type out what country have you visited in your lifetime?:\")\n",
    "\n",
    "# If statement\n",
    "if country_visited in countries_list:\n",
    "    print(\"I've also visited that country!\")\n",
    "else:\n",
    "    print(\"Cool! I haven't visited that country yet.\")\n",
    "\n"
   ]
  },
  {
   "cell_type": "markdown",
   "metadata": {},
   "source": [
    "### Nested loops with While/For loop and If statement"
   ]
  },
  {
   "cell_type": "code",
   "execution_count": 6,
   "metadata": {},
   "outputs": [
    {
     "name": "stdout",
     "output_type": "stream",
     "text": [
      "Welcome to the countries app.\n",
      "You have visited 0 countries so far.\n"
     ]
    },
    {
     "name": "stdin",
     "output_type": "stream",
     "text": [
      "Enter 'a' to add a country you've visited, or 'q' to quit:  a\n",
      "Enter Country name:  Philippines\n",
      "Enter Date visted:  2017\n",
      "Enter 'a' to add another country, 'l' to list the countries you've visited, or 'q' to quit:  a\n",
      "Enter Country name:  Mexico\n",
      "Enter Date visted:  2015\n",
      "Enter 'a' to add another country, 'l' to list the countries you've visited, or 'q' to quit:  l\n"
     ]
    },
    {
     "name": "stdout",
     "output_type": "stream",
     "text": [
      "You have visted 2 country(ies)\n",
      "- Philippines, visited on 2017\n",
      "- Mexico, visited on 2015\n"
     ]
    },
    {
     "name": "stdin",
     "output_type": "stream",
     "text": [
      "Enter 'a' to add another country, 'l' to list the countries you've visited, or 'q' to quit:  q\n"
     ]
    }
   ],
   "source": [
    "# Create a program that brings a menu up and asks the user to\n",
    "# add a country they visited, the date they visited\n",
    "# or list ou the countries they have visited\n",
    "# or exit out of the menu\n",
    "\n",
    "\n",
    "# Empty list for countries visited\n",
    "countries_visited_list=[]\n",
    "\n",
    "# Menu page\n",
    "print(\"Welcome to the countries app.\")\n",
    "print(\"You have visited 0 countries so far.\")\n",
    "\n",
    "# User input\n",
    "user_input_menu = input(\"Enter 'a' to add a country you've visited, or 'q' to quit: \")\n",
    "\n",
    "# While and if statement\n",
    "while user_input_menu != \"q\":\n",
    "    if user_input_menu == \"a\":\n",
    "        user_input_country = input(\"Enter Country name: \")\n",
    "        user_input_date = input(\"Enter Date visted: \")\n",
    "        countries_visited_list.append([user_input_country,user_input_date])\n",
    "    elif user_input_menu ==\"l\":\n",
    "        print(f\"You have visted {len(countries_visited_list)} country(ies)\")\n",
    "        for country in countries_visited_list:\n",
    "            print(f\"- {country[0]}, visited on {country[1]}\")\n",
    "        \n",
    "    # User input\n",
    "    user_input_menu = input(\"Enter 'a' to add another country, 'l' to list the countries you've visited, or 'q' to quit: \")\n"
   ]
  },
  {
   "cell_type": "markdown",
   "metadata": {},
   "source": [
    "# Treasure Hunter Program"
   ]
  },
  {
   "cell_type": "markdown",
   "metadata": {},
   "source": [
    "### Dictionary"
   ]
  },
  {
   "cell_type": "code",
   "execution_count": null,
   "metadata": {},
   "outputs": [],
   "source": []
  }
 ],
 "metadata": {
  "kernelspec": {
   "display_name": "Python 3",
   "language": "python",
   "name": "python3"
  },
  "language_info": {
   "codemirror_mode": {
    "name": "ipython",
    "version": 3
   },
   "file_extension": ".py",
   "mimetype": "text/x-python",
   "name": "python",
   "nbconvert_exporter": "python",
   "pygments_lexer": "ipython3",
   "version": "3.7.4"
  }
 },
 "nbformat": 4,
 "nbformat_minor": 4
}
